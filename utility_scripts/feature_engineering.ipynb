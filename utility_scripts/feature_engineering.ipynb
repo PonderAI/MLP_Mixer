{
 "cells": [
  {
   "cell_type": "code",
   "execution_count": 1,
   "metadata": {},
   "outputs": [],
   "source": [
    "import os\n",
    "from pathlib import Path\n",
    "import numpy as np\n",
    "from multiprocessing import Pool\n",
    "from multiprocessing import Process\n",
    "import feature_functions as ff\n",
    "\n",
    "path = Path(\"spacio_training_2\")\n",
    "Path.mkdir(path / \"processed_with_features\", exist_ok=True)"
   ]
  },
  {
   "cell_type": "code",
   "execution_count": 2,
   "metadata": {},
   "outputs": [],
   "source": [
    "def pos_features(img):\n",
    "    img_size = img.shape[0]\n",
    "\n",
    "    ones = np.ones([img_size,img_size])\n",
    "    v_vec = np.arange(0,img_size).reshape(img_size,1)\n",
    "    h_vec = np.arange(0,img_size).reshape(1,img_size)\n",
    "    v_pos = ones*v_vec\n",
    "    h_pos = ones*h_vec\n",
    "\n",
    "    return np.dstack([v_pos, h_pos])/img_size\n",
    "\n",
    "\n",
    "def nearest_building_distance(img):\n",
    "    # Find the distance to the nearest building from the left\n",
    "    img_size = img.shape[0]\n",
    "    result = img * 0\n",
    "\n",
    "    for row in range(img.shape[0]):\n",
    "        e = -1\n",
    "        for col, val in enumerate(img[row]):\n",
    "\n",
    "            # Check if building in current position\n",
    "            if val >= 1e-3:\n",
    "                e = 0\n",
    "                \n",
    "            # Check if building has already been seen and no building in current position\n",
    "            if e != -1 and val < 1e-3:\n",
    "                e += 1\n",
    "\n",
    "            result[row, col] = e\n",
    "\n",
    "    return result/img_size\n",
    "\n",
    "def generate_features(geometry):\n",
    "\n",
    "    img = np.load(path/f\"processed/{geometry}\")\n",
    "    img = img[:,:,0]\n",
    "\n",
    "    vh_pos = pos_features(img)\n",
    "\n",
    "    nearest_building_left = nearest_building_distance(img)\n",
    "\n",
    "    nearest_building_right = nearest_building_distance(np.flip(img, 1))\n",
    "    nearest_building_right = np.flip(nearest_building_right, 1)\n",
    "\n",
    "    nearest_building_up = nearest_building_distance(np.rot90(img))\n",
    "    nearest_building_up = np.rot90(nearest_building_up, -1)\n",
    "\n",
    "    nearest_building_down = nearest_building_distance(np.rot90(img, -1))\n",
    "    nearest_building_down = np.rot90(nearest_building_down)\n",
    "\n",
    "    feature_array = np.dstack([img, vh_pos, nearest_building_up, nearest_building_down, nearest_building_left, nearest_building_right])\n",
    "\n",
    "    np.save(path/f\"processed_with_features/{geometry}\", feature_array)\n"
   ]
  },
  {
   "cell_type": "markdown",
   "metadata": {},
   "source": [
    "# One off"
   ]
  },
  {
   "cell_type": "code",
   "execution_count": 5,
   "metadata": {},
   "outputs": [
    {
     "data": {
      "text/plain": [
       "(1024, 1024, 7)"
      ]
     },
     "execution_count": 5,
     "metadata": {},
     "output_type": "execute_result"
    }
   ],
   "source": [
    "img = np.load(path/\"processed/0_0_geom.npy\")\n",
    "img = img[:,:,0]\n",
    "\n",
    "vh_pos = pos_features(img)\n",
    "\n",
    "nearest_building_left = nearest_building_distance(img)\n",
    "\n",
    "nearest_building_right = nearest_building_distance(np.flip(img, 1))\n",
    "nearest_building_right = np.flip(nearest_building_right, 1)\n",
    "\n",
    "nearest_building_down = nearest_building_distance(np.rot90(img, -1))\n",
    "nearest_building_down = np.rot90(nearest_building_down)\n",
    "\n",
    "nearest_building_up = nearest_building_distance(np.rot90(img))\n",
    "nearest_building_up = np.rot90(nearest_building_up, -1)\n",
    "\n",
    "feature_array = np.dstack([img, vh_pos, nearest_building_up, nearest_building_down, nearest_building_left, nearest_building_right])\n",
    "\n",
    "feature_array.shape"
   ]
  },
  {
   "cell_type": "markdown",
   "metadata": {},
   "source": [
    "# Single CPU"
   ]
  },
  {
   "cell_type": "code",
   "execution_count": null,
   "metadata": {},
   "outputs": [],
   "source": [
    "already_done = os.listdir(path/\"processed_with_features\")\n",
    "data = os.listdir(path/\"processed\")\n",
    "geometries = [item for item in data if \"geom\" in item]\n",
    "geometries = set(geometries) - set(already_done)\n",
    "\n",
    "for geometry in geometries:\n",
    "    img = np.load(path/f\"processed/{geometry}\")\n",
    "    img = img[:,:,0]\n",
    "\n",
    "    vh_pos = pos_features(img)\n",
    "\n",
    "    nearest_building_left = nearest_building_distance(img)\n",
    "\n",
    "    nearest_building_right = nearest_building_distance(np.flip(img, 1))\n",
    "    nearest_building_right = np.flip(nearest_building_right, 1)\n",
    "\n",
    "    nearest_building_up = nearest_building_distance(np.rot90(img))\n",
    "    nearest_building_up = np.rot90(nearest_building_up, -1)\n",
    "\n",
    "    nearest_building_down = nearest_building_distance(np.rot90(img, -1))\n",
    "    nearest_building_down = np.rot90(nearest_building_down)\n",
    "\n",
    "    feature_array = np.dstack([img, vh_pos, nearest_building_up, nearest_building_down, nearest_building_left, nearest_building_right])\n",
    "\n",
    "    np.save(path/f\"processed_with_features/{geometry}\", feature_array)\n",
    "    "
   ]
  },
  {
   "cell_type": "markdown",
   "metadata": {},
   "source": [
    "# All CPUs\n",
    "Have to import the generate_features function for a .py file because Windows is weird"
   ]
  },
  {
   "cell_type": "code",
   "execution_count": 5,
   "metadata": {},
   "outputs": [],
   "source": [
    "if __name__ == \"__main__\":\n",
    "\n",
    "    already_done = os.listdir(path/\"processed_with_features\")\n",
    "    data = os.listdir(path/\"processed\")\n",
    "    geometries = [item for item in data if \"geom\" in item]\n",
    "    geometries = set(geometries) - set(already_done)\n",
    "\n",
    "    processes = [Process(target=ff.generate_features, args=(geometry,)) for geometry in geometries]\n",
    "    [p.start() for p in processes]\n",
    "    [p.join() for p in processes]\n"
   ]
  },
  {
   "cell_type": "code",
   "execution_count": null,
   "metadata": {},
   "outputs": [],
   "source": []
  }
 ],
 "metadata": {
  "kernelspec": {
   "display_name": "ML_env",
   "language": "python",
   "name": "python3"
  },
  "language_info": {
   "codemirror_mode": {
    "name": "ipython",
    "version": 3
   },
   "file_extension": ".py",
   "mimetype": "text/x-python",
   "name": "python",
   "nbconvert_exporter": "python",
   "pygments_lexer": "ipython3",
   "version": "3.10.8"
  },
  "orig_nbformat": 4
 },
 "nbformat": 4,
 "nbformat_minor": 2
}
