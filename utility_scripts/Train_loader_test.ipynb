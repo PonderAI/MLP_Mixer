{
 "cells": [
  {
   "cell_type": "code",
   "execution_count": 1,
   "metadata": {},
   "outputs": [
    {
     "name": "stderr",
     "output_type": "stream",
     "text": [
      "c:\\Users\\Adam\\miniconda3\\envs\\ML_env\\lib\\site-packages\\tqdm\\auto.py:22: TqdmWarning: IProgress not found. Please update jupyter and ipywidgets. See https://ipywidgets.readthedocs.io/en/stable/user_install.html\n",
      "  from .autonotebook import tqdm as notebook_tqdm\n"
     ]
    }
   ],
   "source": [
    "from pathlib import Path\n",
    "import numpy as np\n",
    "import pandas as pd\n",
    "import torch\n",
    "from torch.utils.data import Dataset, DataLoader, random_split"
   ]
  },
  {
   "cell_type": "code",
   "execution_count": 2,
   "metadata": {},
   "outputs": [
    {
     "name": "stdout",
     "output_type": "stream",
     "text": [
      "Geometry files: 2608, Flow files: 2608\n"
     ]
    }
   ],
   "source": [
    "\"\"\"\n",
    "Generate a CSV file containing matched pairs of geometries and flow field file names.\n",
    "\"\"\"\n",
    "\n",
    "import os\n",
    "path = Path(\"spacio_training_2/processed\")\n",
    "all_files = os.listdir(path)\n",
    "geom_files = [x for x in all_files if \"geom\" in x]\n",
    "cfd_files = [x for x in all_files if \"_2.npy\" in x]\n",
    "# cfd_files.pop() # Drop mask file\n",
    "\n",
    "print(f\"Geometry files: {len(geom_files)}, Flow files: {len(cfd_files)}\")\n",
    "\n",
    "df = pd.DataFrame({'X':geom_files, 'Y':cfd_files})\n",
    "\n",
    "def match(X, Y):\n",
    "    X = X.split(\"_\")\n",
    "    Y = Y.split(\"_\")\n",
    "    if X[0] == Y[0] and X[1] == Y[2]:\n",
    "        return True\n",
    "    return False\n",
    "\n",
    "df['test'] = df.apply(lambda row: match(row.X, row.Y), axis=1)\n",
    "\n",
    "if len(df.query(\"test == False\")) > 0:\n",
    "    raise Exception(\"Train/Test files matched incrorectly!\")\n",
    "\n",
    "else:\n",
    "    df = df.drop(columns=['test'])\n",
    "    df.to_csv(path/'../test_train.csv', index=False)"
   ]
  },
  {
   "cell_type": "code",
   "execution_count": 93,
   "metadata": {},
   "outputs": [
    {
     "name": "stdout",
     "output_type": "stream",
     "text": [
      "torch.Size([1, 3, 1024, 1024]) torch.Size([1, 3, 1024, 1024])\n"
     ]
    }
   ],
   "source": [
    "\"\"\"\n",
    "Create the data set. This uses a csv file with the names of all of the geometries\n",
    "and flow patterns to index and find the appropriate file when called.\n",
    "\"\"\"\n",
    "class TestTrainData(Dataset):\n",
    "    def __init__(self, root_dir, dir_file) -> None:\n",
    "        self.root_dir = root_dir\n",
    "        self.file_directory = pd.read_csv(dir_file)\n",
    "\n",
    "    def __len__(self):\n",
    "        return len(self.file_directory)\n",
    "    \n",
    "    def __getitem__(self, idx):\n",
    "        x = np.load(path/self.file_directory.iloc[idx].X)\n",
    "        y = np.load(path/self.file_directory.iloc[idx].Y)\n",
    "        x_batch = torch.tensor(x).permute(2, 0, 1)\n",
    "        y_batch = torch.tensor(y).permute(2, 0, 1)\n",
    "        return x_batch, y_batch\n",
    "    \n",
    "dataset = TestTrainData(path, path/\"../test_train_matrix.csv\")\n",
    "\n",
    "# 80/20 test/train split.\n",
    "train_set, test_set = random_split(dataset, [int(len(dataset) * 0.8), len(dataset) - int(len(dataset) * 0.8)])\n",
    "\n",
    "# On Windows num_workers must be set to 0.\n",
    "train_loader = DataLoader(train_set,\n",
    "                          batch_size=1, shuffle=True,\n",
    "                          num_workers=0)\n",
    "\n",
    "test_loader = DataLoader(test_set,\n",
    "                         batch_size=1, shuffle=True,\n",
    "                         num_workers=0)\n",
    "\n",
    "for i, data in enumerate(train_loader, 0):\n",
    "    X, Y = data\n",
    "    print(X.shape, Y.shape)\n",
    "    break\n"
   ]
  }
 ],
 "metadata": {
  "kernelspec": {
   "display_name": "ML_env",
   "language": "python",
   "name": "python3"
  },
  "language_info": {
   "codemirror_mode": {
    "name": "ipython",
    "version": 3
   },
   "file_extension": ".py",
   "mimetype": "text/x-python",
   "name": "python",
   "nbconvert_exporter": "python",
   "pygments_lexer": "ipython3",
   "version": "3.10.8"
  },
  "orig_nbformat": 4
 },
 "nbformat": 4,
 "nbformat_minor": 2
}
