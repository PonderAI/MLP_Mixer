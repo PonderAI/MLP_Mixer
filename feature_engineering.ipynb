{
 "cells": [
  {
   "cell_type": "code",
   "execution_count": 16,
   "metadata": {},
   "outputs": [],
   "source": [
    "import numpy as np\n",
    "from pathlib import Path\n",
    "import os\n",
    "\n",
    "path = Path(\"spacio_training_2\")"
   ]
  },
  {
   "cell_type": "code",
   "execution_count": 17,
   "metadata": {},
   "outputs": [],
   "source": [
    "def pos_features(img):\n",
    "    img_size = img.shape[0]\n",
    "\n",
    "    ones = np.ones([img_size,img_size])\n",
    "    v_vec = np.arange(0,img_size).reshape(img_size,1)\n",
    "    h_vec = np.arange(0,img_size).reshape(1,img_size)\n",
    "    v_pos = ones*v_vec\n",
    "    h_pos = ones*h_vec\n",
    "\n",
    "    return np.dstack([v_pos, h_pos])\n",
    "\n",
    "\n",
    "def nearest_building_distance(img):\n",
    "    # Find the distance to the nearest building from the left\n",
    "    res = img * 0\n",
    "\n",
    "    for row in range(img.shape[0]):\n",
    "        e = -1\n",
    "        for i, val in enumerate(img[row]):\n",
    "\n",
    "            # Check if building in current position\n",
    "            if val >= 0.001:\n",
    "                e = 0\n",
    "                \n",
    "            # Check if building has already been seen and no building in current position\n",
    "            if e != -1 and val < 0.001:\n",
    "                e += 1\n",
    "\n",
    "            res[row, i] = e\n",
    "\n",
    "    return res"
   ]
  },
  {
   "cell_type": "code",
   "execution_count": 18,
   "metadata": {},
   "outputs": [
    {
     "data": {
      "text/plain": [
       "(1024, 1024, 7)"
      ]
     },
     "execution_count": 18,
     "metadata": {},
     "output_type": "execute_result"
    }
   ],
   "source": [
    "img = np.load(path/\"processed/0_0_geom.npy\")\n",
    "img = img[:,:,0]\n",
    "\n",
    "vh_pos = pos_features(img)\n",
    "\n",
    "nearest_building_left = nearest_building_distance(img)\n",
    "\n",
    "nearest_building_right = nearest_building_distance(np.flip(img, 1))\n",
    "nearest_building_right = np.flip(nearest_building_right, 1)\n",
    "\n",
    "nearest_building_down = nearest_building_distance(np.rot90(img, -1))\n",
    "nearest_building_down = np.rot90(nearest_building_down)\n",
    "\n",
    "nearest_building_up = nearest_building_distance(np.rot90(img))\n",
    "nearest_building_up = np.rot90(nearest_building_up, -1)\n",
    "\n",
    "feature_array = np.dstack([img, vh_pos, nearest_building_up, nearest_building_down, nearest_building_left, nearest_building_right])\n",
    "\n",
    "feature_array.shape"
   ]
  },
  {
   "cell_type": "code",
   "execution_count": 26,
   "metadata": {},
   "outputs": [],
   "source": [
    "data = os.listdir(path/\"processed\")\n",
    "geometries = [item for item in data if \"geom\" in item]\n",
    "\n",
    "for geometry in geometries:\n",
    "    img = np.load(path/f\"processed/{geometry}\")\n",
    "    img = img[:,:,0]\n",
    "\n",
    "    vh_pos = pos_features(img)\n",
    "\n",
    "    nearest_building_left = nearest_building_distance(img)\n",
    "\n",
    "    nearest_building_right = nearest_building_distance(np.flip(img, 1))\n",
    "    nearest_building_right = np.flip(nearest_building_right, 1)\n",
    "\n",
    "    nearest_building_up = nearest_building_distance(np.rot90(img))\n",
    "    nearest_building_up = np.rot90(nearest_building_up, -1)\n",
    "\n",
    "    nearest_building_down = nearest_building_distance(np.rot90(img, -1))\n",
    "    nearest_building_down = np.rot90(nearest_building_down)\n",
    "\n",
    "    feature_array = np.dstack([img, vh_pos, nearest_building_up, nearest_building_down, nearest_building_left, nearest_building_right])\n",
    "\n",
    "    np.save(path/f\"processed_with_features/{geometry}\", feature_array)"
   ]
  },
  {
   "cell_type": "code",
   "execution_count": null,
   "metadata": {},
   "outputs": [],
   "source": []
  }
 ],
 "metadata": {
  "kernelspec": {
   "display_name": "ML_env",
   "language": "python",
   "name": "python3"
  },
  "language_info": {
   "codemirror_mode": {
    "name": "ipython",
    "version": 3
   },
   "file_extension": ".py",
   "mimetype": "text/x-python",
   "name": "python",
   "nbconvert_exporter": "python",
   "pygments_lexer": "ipython3",
   "version": "3.10.8"
  },
  "orig_nbformat": 4
 },
 "nbformat": 4,
 "nbformat_minor": 2
}
